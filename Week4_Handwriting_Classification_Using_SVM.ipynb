{
 "cells": [
  {
   "cell_type": "code",
   "execution_count": 183,
   "id": "e8880c58-ed32-4571-b339-4bf781568830",
   "metadata": {},
   "outputs": [
    {
     "name": "stdout",
     "output_type": "stream",
     "text": [
      "{0: 6903, 1: 7877, 2: 6990, 3: 7141, 4: 6824, 5: 6313, 6: 6876, 7: 7293, 8: 6825, 9: 6958}\n",
      "Number of True in y_train_5: 5421\n",
      "Number of False in y_train_5: 54579\n",
      "[[54481    98]\n",
      " [  465  4956]]\n"
     ]
    }
   ],
   "source": [
    "import numpy as np\n",
    "from sklearn.datasets import fetch_openml\n",
    "from sklearn.svm import SVC\n",
    "from sklearn.preprocessing import StandardScaler\n",
    "from sklearn.pipeline import Pipeline\n",
    "from sklearn.model_selection import cross_val_predict\n",
    "from sklearn.metrics import confusion_matrix\n",
    "\n",
    "# Load the MNIST dataset\n",
    "mnist = fetch_openml('mnist_784', version=1)\n",
    "X, y = mnist[\"data\"], mnist[\"target\"].astype(int)\n",
    "\n",
    "# Check the distribution of digits in the dataset\n",
    "unique, counts = np.unique(y, return_counts=True)\n",
    "print(dict(zip(unique, counts)))  # This will show the number of each digit in the dataset\n",
    "\n",
    "# Split the data into training and testing sets\n",
    "X_train, y_train = X[:60000], y[:60000]\n",
    "X_test, y_test = X[60000:], y[60000:]\n",
    "\n",
    "# Create a binary target variable to identify the digit 5\n",
    "y_train_5 = (y_train == 5)\n",
    "y_test_5 = (y_test == 5)\n",
    "\n",
    "# Check the distribution of the binary variable\n",
    "print(f\"Number of True in y_train_5: {np.sum(y_train_5)}\")\n",
    "print(f\"Number of False in y_train_5: {len(y_train_5) - np.sum(y_train_5)}\")\n",
    "\n",
    "# Ensure there are instances of the digit 5\n",
    "if np.sum(y_train_5) == 0:\n",
    "    raise ValueError(\"The training set does not contain any instances of the digit 5.\")\n",
    "\n",
    "# Create and train the SVM classifier\n",
    "svm_clf = Pipeline([\n",
    "    (\"scaler\", StandardScaler()),\n",
    "    (\"svc\", SVC(decision_function_shape='ovo'))\n",
    "])\n",
    "\n",
    "# Use cross_val_predict to get the predicted labels for y_train_5\n",
    "y_train_predict = cross_val_predict(svm_clf, X_train, y_train_5, cv=3)\n",
    "\n",
    "# Compute the confusion matrix\n",
    "conf_matrix = confusion_matrix(y_train_5, y_train_predict)\n",
    "print(conf_matrix)\n"
   ]
  },
  {
   "cell_type": "code",
   "execution_count": 187,
   "id": "ade68e48-b160-4c06-aa03-c253319c5ab1",
   "metadata": {},
   "outputs": [
    {
     "name": "stdout",
     "output_type": "stream",
     "text": [
      "Precision: 0.9806094182825484\n",
      "Recall: 0.9142224681793027\n",
      "f1_score: 0.9462529832935561\n"
     ]
    }
   ],
   "source": [
    "from sklearn.metrics import precision_score, recall_score, f1_score\n",
    "precision = precision_score(y_train_5, y_train_predict)\n",
    "recall = recall_score(y_train_5, y_train_predict)\n",
    "f1score = f1_score(y_train_5, y_train_predict)\n",
    "print(\"Precision:\",precision)\n",
    "print(\"Recall:\", recall)\n",
    "print(\"f1_score:\",f1score)"
   ]
  },
  {
   "cell_type": "code",
   "execution_count": null,
   "id": "6874df7b-030a-43b1-a3d9-0607908d77b4",
   "metadata": {},
   "outputs": [],
   "source": []
  }
 ],
 "metadata": {
  "kernelspec": {
   "display_name": "Python 3 (ipykernel)",
   "language": "python",
   "name": "python3"
  },
  "language_info": {
   "codemirror_mode": {
    "name": "ipython",
    "version": 3
   },
   "file_extension": ".py",
   "mimetype": "text/x-python",
   "name": "python",
   "nbconvert_exporter": "python",
   "pygments_lexer": "ipython3",
   "version": "3.12.4"
  }
 },
 "nbformat": 4,
 "nbformat_minor": 5
}
